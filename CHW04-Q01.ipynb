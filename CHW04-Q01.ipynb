{
 "cells": [
  {
   "cell_type": "markdown",
   "metadata": {
    "id": "sp7D0ktn5eiG"
   },
   "source": [
    "\n",
    "<br>\n",
    "<font>\n",
    "<div dir=ltr align=center>\n",
    "<font color=0F5298 size=10>\n",
    "    Deep Learning - HW4 <br>\n",
    "<font color=2565AE size=5>\n",
    "    Electrical Engineering Department <br>\n",
    "    winter 2024<br>\n",
    "<font color=3C99D size=5>\n",
    "    Practical Assignment 1 <br>\n",
    "<font color=696880 size=4>\n",
    "    Niloufar Abbasi \n",
    "\n",
    "____"
   ]
  },
  {
   "cell_type": "markdown",
   "metadata": {},
   "source": [
    "# Emotion Recognition with Recurrent Neural Networks\n"
   ]
  },
  {
   "cell_type": "markdown",
   "metadata": {},
   "source": [
    "---\n",
    "\n",
    "## **Introduction**\n",
    "\n",
    "In this task, you will implement a Recurrent Neural Network (RNN) to perform tweet emotion recognition. The goal is to classify tweets into one of six basic emotions: \n",
    "- **0: sadness**\n",
    "- **1: joy**\n",
    "- **2: love**\n",
    "- **3: anger**\n",
    "- **4: fear**\n",
    "- **5: surprise**\n",
    "\n",
    "We will be using a dataset of tweets, where each tweet has been labeled with one of these emotions. Throughout this notebook, you will follow step-by-step instructions to build and train your model. As you progress, you'll complete the provided TODO sections by filling in the necessary code and functions.\n",
    "\n",
    "By the end of this exercise, you will:\n",
    "- Understand how to preprocess text data for use in RNN models.\n",
    "- Build and train a model using Pytorch.\n",
    "- Evaluate the performance of your model on the test set.\n",
    "\n",
    "---\n"
   ]
  },
  {
   "cell_type": "markdown",
   "metadata": {},
   "source": [
    "---\n",
    "\n",
    "## Task 1: Enter Your Information\n",
    "\n",
    "Before we begin, please enter your **student ID** and **name** in the code section below.\n",
    "\n",
    "Make sure to replace the placeholders with your actual information.\n",
    "\n",
    "---"
   ]
  },
  {
   "cell_type": "code",
   "execution_count": 1,
   "metadata": {
    "execution": {
     "iopub.execute_input": "2025-01-01T12:40:01.353903Z",
     "iopub.status.busy": "2025-01-01T12:40:01.353612Z",
     "iopub.status.idle": "2025-01-01T12:40:01.359314Z",
     "shell.execute_reply": "2025-01-01T12:40:01.358466Z",
     "shell.execute_reply.started": "2025-01-01T12:40:01.353868Z"
    },
    "trusted": true
   },
   "outputs": [
    {
     "name": "stdout",
     "output_type": "stream",
     "text": [
      "Your name: Mohammad Morsali\n",
      "Your student ID: 400101956\n"
     ]
    }
   ],
   "source": [
    "#########################################\n",
    "# TODO: Enter your personal information #\n",
    "#########################################\n",
    "\n",
    "student_name = \"Mohammad Morsali\"  # Replace with your name\n",
    "student_id   = 400101956  # Replace with your student ID\n",
    "\n",
    "print(\"Your name:\", student_name)\n",
    "print(\"Your student ID:\", student_id)"
   ]
  },
  {
   "cell_type": "markdown",
   "metadata": {},
   "source": [
    "---\n",
    "\n",
    "## Task 2: Setup and Imports\n",
    "\n",
    "In this task, we'll be preparing our environment by importing the necessary libraries. Please run the cells below to set everything up. If any library is missing on your end, make sure to install it.\n",
    "\n",
    "### Instructions:\n",
    "1. **Run the cells** to install any required packages and import the necessary libraries.\n",
    "2. If any library is not installed in your environment, use `!pip install <library_name>` to install it.\n",
    "---"
   ]
  },
  {
   "cell_type": "code",
   "execution_count": 2,
   "metadata": {
    "execution": {
     "iopub.execute_input": "2025-01-01T12:40:01.391336Z",
     "iopub.status.busy": "2025-01-01T12:40:01.391107Z",
     "iopub.status.idle": "2025-01-01T12:40:05.779519Z",
     "shell.execute_reply": "2025-01-01T12:40:05.778685Z",
     "shell.execute_reply.started": "2025-01-01T12:40:01.391316Z"
    },
    "trusted": true
   },
   "outputs": [
    {
     "name": "stdout",
     "output_type": "stream",
     "text": [
      "Requirement already satisfied: datasets in /usr/local/lib/python3.10/dist-packages (3.2.0)\n",
      "Requirement already satisfied: filelock in /usr/local/lib/python3.10/dist-packages (from datasets) (3.16.1)\n",
      "Requirement already satisfied: numpy>=1.17 in /usr/local/lib/python3.10/dist-packages (from datasets) (1.26.4)\n",
      "Requirement already satisfied: pyarrow>=15.0.0 in /usr/local/lib/python3.10/dist-packages (from datasets) (18.1.0)\n",
      "Requirement already satisfied: dill<0.3.9,>=0.3.0 in /usr/local/lib/python3.10/dist-packages (from datasets) (0.3.8)\n",
      "Requirement already satisfied: pandas in /usr/local/lib/python3.10/dist-packages (from datasets) (2.1.4)\n",
      "Requirement already satisfied: requests>=2.32.2 in /usr/local/lib/python3.10/dist-packages (from datasets) (2.32.3)\n",
      "Requirement already satisfied: tqdm>=4.66.3 in /usr/local/lib/python3.10/dist-packages (from datasets) (4.66.5)\n",
      "Requirement already satisfied: xxhash in /usr/local/lib/python3.10/dist-packages (from datasets) (3.5.0)\n",
      "Requirement already satisfied: multiprocess<0.70.17 in /usr/local/lib/python3.10/dist-packages (from datasets) (0.70.16)\n",
      "Requirement already satisfied: fsspec<=2024.9.0,>=2023.1.0 in /usr/local/lib/python3.10/dist-packages (from fsspec[http]<=2024.9.0,>=2023.1.0->datasets) (2024.6.1)\n",
      "Requirement already satisfied: aiohttp in /usr/local/lib/python3.10/dist-packages (from datasets) (3.10.5)\n",
      "Requirement already satisfied: huggingface-hub>=0.23.0 in /usr/local/lib/python3.10/dist-packages (from datasets) (0.24.7)\n",
      "Requirement already satisfied: packaging in /usr/local/lib/python3.10/dist-packages (from datasets) (24.1)\n",
      "Requirement already satisfied: pyyaml>=5.1 in /usr/local/lib/python3.10/dist-packages (from datasets) (6.0.2)\n",
      "Requirement already satisfied: aiohappyeyeballs>=2.3.0 in /usr/local/lib/python3.10/dist-packages (from aiohttp->datasets) (2.4.0)\n",
      "Requirement already satisfied: aiosignal>=1.1.2 in /usr/local/lib/python3.10/dist-packages (from aiohttp->datasets) (1.3.1)\n",
      "Requirement already satisfied: attrs>=17.3.0 in /usr/local/lib/python3.10/dist-packages (from aiohttp->datasets) (24.2.0)\n",
      "Requirement already satisfied: frozenlist>=1.1.1 in /usr/local/lib/python3.10/dist-packages (from aiohttp->datasets) (1.4.1)\n",
      "Requirement already satisfied: multidict<7.0,>=4.5 in /usr/local/lib/python3.10/dist-packages (from aiohttp->datasets) (6.1.0)\n",
      "Requirement already satisfied: yarl<2.0,>=1.0 in /usr/local/lib/python3.10/dist-packages (from aiohttp->datasets) (1.11.1)\n",
      "Requirement already satisfied: async-timeout<5.0,>=4.0 in /usr/local/lib/python3.10/dist-packages (from aiohttp->datasets) (4.0.3)\n",
      "Requirement already satisfied: typing-extensions>=3.7.4.3 in /usr/local/lib/python3.10/dist-packages (from huggingface-hub>=0.23.0->datasets) (4.12.2)\n",
      "Requirement already satisfied: charset-normalizer<4,>=2 in /usr/local/lib/python3.10/dist-packages (from requests>=2.32.2->datasets) (3.3.2)\n",
      "Requirement already satisfied: idna<4,>=2.5 in /usr/local/lib/python3.10/dist-packages (from requests>=2.32.2->datasets) (3.10)\n",
      "Requirement already satisfied: urllib3<3,>=1.21.1 in /usr/local/lib/python3.10/dist-packages (from requests>=2.32.2->datasets) (2.2.3)\n",
      "Requirement already satisfied: certifi>=2017.4.17 in /usr/local/lib/python3.10/dist-packages (from requests>=2.32.2->datasets) (2024.8.30)\n",
      "Requirement already satisfied: python-dateutil>=2.8.2 in /usr/local/lib/python3.10/dist-packages (from pandas->datasets) (2.8.2)\n",
      "Requirement already satisfied: pytz>=2020.1 in /usr/local/lib/python3.10/dist-packages (from pandas->datasets) (2024.2)\n",
      "Requirement already satisfied: tzdata>=2022.1 in /usr/local/lib/python3.10/dist-packages (from pandas->datasets) (2024.1)\n",
      "Requirement already satisfied: six>=1.5 in /usr/local/lib/python3.10/dist-packages (from python-dateutil>=2.8.2->pandas->datasets) (1.16.0)\n"
     ]
    }
   ],
   "source": [
    "!pip install datasets"
   ]
  },
  {
   "cell_type": "markdown",
   "metadata": {},
   "source": [
    "Required Libraries:"
   ]
  },
  {
   "cell_type": "code",
   "execution_count": 3,
   "metadata": {
    "execution": {
     "iopub.execute_input": "2025-01-01T12:40:05.780800Z",
     "iopub.status.busy": "2025-01-01T12:40:05.780591Z",
     "iopub.status.idle": "2025-01-01T12:40:11.198022Z",
     "shell.execute_reply": "2025-01-01T12:40:11.197317Z",
     "shell.execute_reply.started": "2025-01-01T12:40:05.780783Z"
    },
    "trusted": true
   },
   "outputs": [],
   "source": [
    "import torch\n",
    "import numpy as np\n",
    "import matplotlib.pyplot as plt\n",
    "from sklearn.metrics import confusion_matrix\n",
    "from datasets import load_dataset\n",
    "import numpy as np\n",
    "import matplotlib.pyplot as plt\n",
    "import seaborn as sns\n",
    "from sklearn.metrics import confusion_matrix, classification_report\n",
    "from sklearn.model_selection import train_test_split\n",
    "from datasets import load_dataset\n",
    "from transformers import BertTokenizerFast\n",
    "%matplotlib inline\n",
    "\n",
    "#####################################################################\n",
    "# TODO: Add any additional libraries you may need for your analysis #\n",
    "#####################################################################\n",
    " \n",
    "# You can add your libraries here"
   ]
  },
  {
   "cell_type": "markdown",
   "metadata": {},
   "source": [
    "### Additional Functions\n",
    "\n",
    "The following functions have been provided to help you visualize the results of your model training. These will allow you to analyze both the model's performance over time (through the training history) and how well it performs on individual predictions (through a confusion matrix).\n",
    "\n",
    "1. **`plot_history(hist)`**: This function takes the training history object (`hist`) from your model and plots both the accuracy and loss over the number of epochs for both training and validation sets. It provides an easy way to visually track the model's learning progress and performance.\n",
    "\n",
    "2. **`visualize_confusion_matrix(actual_labels, predicted_labels, classes)`**: After making predictions with your model, you can use this function to plot a confusion matrix. It shows the accuracy of your model across each class, helping to identify areas where the model is performing well and where it might be struggling. The matrix is normalized to make comparisons easier.\n",
    "\n",
    "These functions are for your convenience, you can directly use them after running your model to visualize the results.\n"
   ]
  },
  {
   "cell_type": "code",
   "execution_count": 4,
   "metadata": {
    "execution": {
     "iopub.execute_input": "2025-01-01T12:40:11.200172Z",
     "iopub.status.busy": "2025-01-01T12:40:11.199609Z",
     "iopub.status.idle": "2025-01-01T12:40:11.206586Z",
     "shell.execute_reply": "2025-01-01T12:40:11.205989Z",
     "shell.execute_reply.started": "2025-01-01T12:40:11.200149Z"
    },
    "trusted": true
   },
   "outputs": [],
   "source": [
    "# Functions to visualize training history and confusion matrix\n",
    "def plot_history(hist):\n",
    "    epochs = len(hist.history['loss'])\n",
    "    plt.figure(figsize=(16, 6))\n",
    "\n",
    "    plt.subplot(1, 2, 1)\n",
    "    plt.plot(range(0, epochs), hist.history.get('accuracy'), label='Training')\n",
    "    plt.plot(range(0, epochs), hist.history.get('val_accuracy'), label='Validation')\n",
    "    plt.ylim([0., 1.])\n",
    "    plt.xlabel('Epochs')\n",
    "    plt.ylabel('Accuracy')\n",
    "    plt.legend()\n",
    "\n",
    "    plt.subplot(1, 2, 2)\n",
    "    plt.plot(range(0, epochs), hist.history.get('loss'), label='Training')\n",
    "    plt.plot(range(0, epochs), hist.history.get('val_loss'), label='Validation')\n",
    "    plt.xlabel('Epochs')\n",
    "    plt.ylabel('Loss')\n",
    "    plt.legend()\n",
    "    plt.show()\n",
    "\n",
    "def visualize_confusion_matrix(actual_labels, predicted_labels, classes):\n",
    "\n",
    "    cm = confusion_matrix(actual_labels, predicted_labels, normalize='true')\n",
    "\n",
    "    plt.figure(figsize=(8, 8))\n",
    "    sp = plt.subplot(1, 1, 1)\n",
    "    ctx = sp.matshow(cm)\n",
    "    plt.xticks(list(range(0, 6)), labels=classes)\n",
    "    plt.yticks(list(range(0, 6)), labels=classes)\n",
    "    plt.colorbar(ctx)\n",
    "    plt.show()\n"
   ]
  },
  {
   "cell_type": "markdown",
   "metadata": {},
   "source": [
    "---\n",
    "\n",
    "## Task 3: Importing Data\n",
    "\n",
    "In this task, we will\n",
    "\n",
    "- import the Tweet Emotion dataset\n",
    "\n",
    "- create training, validation, and test sets\n",
    "    \n",
    "- extract the tweets and their corresponding labels for further analysis\n",
    "\n",
    "---"
   ]
  },
  {
   "cell_type": "code",
   "execution_count": 5,
   "metadata": {
    "execution": {
     "iopub.execute_input": "2025-01-01T12:40:11.207754Z",
     "iopub.status.busy": "2025-01-01T12:40:11.207574Z",
     "iopub.status.idle": "2025-01-01T12:40:20.678931Z",
     "shell.execute_reply": "2025-01-01T12:40:20.678277Z",
     "shell.execute_reply.started": "2025-01-01T12:40:11.207738Z"
    },
    "id": "0YHOvjAu5eiL",
    "trusted": true
   },
   "outputs": [
    {
     "data": {
      "application/vnd.jupyter.widget-view+json": {
       "model_id": "230d923d7dd546358e06f7059d700012",
       "version_major": 2,
       "version_minor": 0
      },
      "text/plain": [
       "README.md:   0%|          | 0.00/9.05k [00:00<?, ?B/s]"
      ]
     },
     "metadata": {},
     "output_type": "display_data"
    },
    {
     "data": {
      "application/vnd.jupyter.widget-view+json": {
       "model_id": "e16d1c81d0a246329ad5bce749f832ee",
       "version_major": 2,
       "version_minor": 0
      },
      "text/plain": [
       "train-00000-of-00001.parquet:   0%|          | 0.00/1.03M [00:00<?, ?B/s]"
      ]
     },
     "metadata": {},
     "output_type": "display_data"
    },
    {
     "data": {
      "application/vnd.jupyter.widget-view+json": {
       "model_id": "68e47b5e00d5452daa09bcaaf32054be",
       "version_major": 2,
       "version_minor": 0
      },
      "text/plain": [
       "validation-00000-of-00001.parquet:   0%|          | 0.00/127k [00:00<?, ?B/s]"
      ]
     },
     "metadata": {},
     "output_type": "display_data"
    },
    {
     "data": {
      "application/vnd.jupyter.widget-view+json": {
       "model_id": "403fda0206e14863803f54b14f5f434c",
       "version_major": 2,
       "version_minor": 0
      },
      "text/plain": [
       "test-00000-of-00001.parquet:   0%|          | 0.00/129k [00:00<?, ?B/s]"
      ]
     },
     "metadata": {},
     "output_type": "display_data"
    },
    {
     "data": {
      "application/vnd.jupyter.widget-view+json": {
       "model_id": "11beedb8baf64bbdbebee627e47add90",
       "version_major": 2,
       "version_minor": 0
      },
      "text/plain": [
       "Generating train split:   0%|          | 0/16000 [00:00<?, ? examples/s]"
      ]
     },
     "metadata": {},
     "output_type": "display_data"
    },
    {
     "data": {
      "application/vnd.jupyter.widget-view+json": {
       "model_id": "c7ab5a3fdd584632a7f7295ca12e4d50",
       "version_major": 2,
       "version_minor": 0
      },
      "text/plain": [
       "Generating validation split:   0%|          | 0/2000 [00:00<?, ? examples/s]"
      ]
     },
     "metadata": {},
     "output_type": "display_data"
    },
    {
     "data": {
      "application/vnd.jupyter.widget-view+json": {
       "model_id": "5786430119284b17aad9780685b813a3",
       "version_major": 2,
       "version_minor": 0
      },
      "text/plain": [
       "Generating test split:   0%|          | 0/2000 [00:00<?, ? examples/s]"
      ]
     },
     "metadata": {},
     "output_type": "display_data"
    },
    {
     "data": {
      "text/plain": [
       "DatasetDict({\n",
       "    train: Dataset({\n",
       "        features: ['text', 'label'],\n",
       "        num_rows: 16000\n",
       "    })\n",
       "    validation: Dataset({\n",
       "        features: ['text', 'label'],\n",
       "        num_rows: 2000\n",
       "    })\n",
       "    test: Dataset({\n",
       "        features: ['text', 'label'],\n",
       "        num_rows: 2000\n",
       "    })\n",
       "})"
      ]
     },
     "execution_count": 5,
     "metadata": {},
     "output_type": "execute_result"
    }
   ],
   "source": [
    "dataset = load_dataset('emotion')\n",
    "dataset"
   ]
  },
  {
   "cell_type": "code",
   "execution_count": 6,
   "metadata": {
    "execution": {
     "iopub.execute_input": "2025-01-01T12:40:20.680020Z",
     "iopub.status.busy": "2025-01-01T12:40:20.679690Z",
     "iopub.status.idle": "2025-01-01T12:40:20.684438Z",
     "shell.execute_reply": "2025-01-01T12:40:20.683763Z",
     "shell.execute_reply.started": "2025-01-01T12:40:20.679979Z"
    },
    "id": "2s0h541FxIgc",
    "trusted": true
   },
   "outputs": [
    {
     "name": "stdout",
     "output_type": "stream",
     "text": [
      "{'text': ['i didnt feel humiliated', 'i can go from feeling so hopeless to so damned hopeful just from being around someone who cares and is awake', 'im grabbing a minute to post i feel greedy wrong', 'i am ever feeling nostalgic about the fireplace i will know that it is still on the property', 'i am feeling grouchy'], 'label': [0, 0, 3, 2, 3]}\n"
     ]
    }
   ],
   "source": [
    "# Display the first few samples\n",
    "print(dataset['train'][0:5])  # Adjust 'train' to 'test' or other splits if necessary"
   ]
  },
  {
   "cell_type": "code",
   "execution_count": 7,
   "metadata": {
    "execution": {
     "iopub.execute_input": "2025-01-01T12:40:20.685420Z",
     "iopub.status.busy": "2025-01-01T12:40:20.685231Z",
     "iopub.status.idle": "2025-01-01T12:40:20.703646Z",
     "shell.execute_reply": "2025-01-01T12:40:20.702936Z",
     "shell.execute_reply.started": "2025-01-01T12:40:20.685403Z"
    },
    "id": "z7eCnxU25eiN",
    "trusted": true
   },
   "outputs": [],
   "source": [
    "###########################################################################\n",
    "# TODO: Create variables for the training, validation, and test datasets. #\n",
    "###########################################################################\n",
    "\n",
    "training = dataset['train']\n",
    "validation = dataset['validation']\n",
    "test = dataset[\"test\"]"
   ]
  },
  {
   "cell_type": "code",
   "execution_count": 8,
   "metadata": {
    "execution": {
     "iopub.execute_input": "2025-01-01T12:40:20.704550Z",
     "iopub.status.busy": "2025-01-01T12:40:20.704366Z",
     "iopub.status.idle": "2025-01-01T12:40:20.741689Z",
     "shell.execute_reply": "2025-01-01T12:40:20.741005Z",
     "shell.execute_reply.started": "2025-01-01T12:40:20.704534Z"
    },
    "id": "oDYXMfZy5eiP",
    "trusted": true
   },
   "outputs": [
    {
     "name": "stdout",
     "output_type": "stream",
     "text": [
      "i didnt feel humiliated 0\n"
     ]
    }
   ],
   "source": [
    "########################################################################################################\n",
    "# TODO:                                                                                                #\n",
    "# Implement the `extract_tweets_labels` function to iterate over the provided dataset.                 #\n",
    "# Within this function, extract the tweet text and their corresponding labels into two separate lists. #\n",
    "# Then, call this function with the training dataset to obtain the tweets and labels,                  #\n",
    "# ensuring proper data handling for subsequent analysis.                                               #\n",
    "########################################################################################################\n",
    "\n",
    "def extract_tweets_labels(data):\n",
    "    # Extract the text and labels from the data\n",
    "    tweets = data[\"text\"]\n",
    "    labels = data[\"label\"]\n",
    "    return tweets, labels\n",
    "\n",
    "# Get the tweets and labels from the training set\n",
    "tweets, labels = extract_tweets_labels(training)\n",
    "\n",
    "# Display the first tweet and its label\n",
    "print(tweets[0], labels[0])"
   ]
  },
  {
   "cell_type": "markdown",
   "metadata": {},
   "source": [
    "---\n",
    "\n",
    "## Task 4: Tokenization of Tweets\n",
    "\n",
    "In this section, we will focus on the tokenization of the tweets in the dataset. Tokenization is a crucial step in natural language processing (NLP) that involves breaking down text into smaller units, such as words or subwords. This process enables the model to better understand and analyze the text data.\n",
    "\n",
    "### Objectives:\n",
    "1. Implement a tokenizer to convert the tweet texts into tokens.\n",
    "2. Ensure the tokenization process handles various aspects of the text, such as punctuation and special characters.\n",
    "\n",
    "By the end of this task, you will have a set of tokenized tweets ready for further processing in your NLP pipeline.\n",
    "\n",
    "---"
   ]
  },
  {
   "cell_type": "code",
   "execution_count": 9,
   "metadata": {
    "execution": {
     "iopub.execute_input": "2025-01-01T12:40:20.742566Z",
     "iopub.status.busy": "2025-01-01T12:40:20.742370Z",
     "iopub.status.idle": "2025-01-01T12:40:28.942546Z",
     "shell.execute_reply": "2025-01-01T12:40:28.941823Z",
     "shell.execute_reply.started": "2025-01-01T12:40:20.742549Z"
    },
    "id": "qfX5-ResxIgq",
    "trusted": true
   },
   "outputs": [
    {
     "data": {
      "application/vnd.jupyter.widget-view+json": {
       "model_id": "9931527ffd7d4ec4b844d81214f50a05",
       "version_major": 2,
       "version_minor": 0
      },
      "text/plain": [
       "tokenizer_config.json:   0%|          | 0.00/48.0 [00:00<?, ?B/s]"
      ]
     },
     "metadata": {},
     "output_type": "display_data"
    },
    {
     "data": {
      "application/vnd.jupyter.widget-view+json": {
       "model_id": "2dfd48a11b724502a8fa0b9d8ff5c860",
       "version_major": 2,
       "version_minor": 0
      },
      "text/plain": [
       "config.json:   0%|          | 0.00/570 [00:00<?, ?B/s]"
      ]
     },
     "metadata": {},
     "output_type": "display_data"
    },
    {
     "data": {
      "application/vnd.jupyter.widget-view+json": {
       "model_id": "f7301bdf3b504d608ab184a22dd83841",
       "version_major": 2,
       "version_minor": 0
      },
      "text/plain": [
       "vocab.txt:   0%|          | 0.00/232k [00:00<?, ?B/s]"
      ]
     },
     "metadata": {},
     "output_type": "display_data"
    },
    {
     "data": {
      "application/vnd.jupyter.widget-view+json": {
       "model_id": "c7a1908213854fed930c3fbec7e3463f",
       "version_major": 2,
       "version_minor": 0
      },
      "text/plain": [
       "tokenizer.json:   0%|          | 0.00/466k [00:00<?, ?B/s]"
      ]
     },
     "metadata": {},
     "output_type": "display_data"
    },
    {
     "name": "stderr",
     "output_type": "stream",
     "text": [
      "/usr/local/lib/python3.10/dist-packages/transformers/tokenization_utils_base.py:1601: FutureWarning: `clean_up_tokenization_spaces` was not set. It will be set to `True` by default. This behavior will be depracted in transformers v4.45, and will be then set to `False` by default. For more details check this issue: https://github.com/huggingface/transformers/issues/31884\n",
      "  warnings.warn(\n"
     ]
    },
    {
     "name": "stdout",
     "output_type": "stream",
     "text": [
      "Before Tokenization (first tweet):  i didnt feel humiliated\n",
      "After Tokenization (token IDs of first tweet):  [101, 1045, 2134, 2102, 2514, 26608, 102, 0, 0, 0, 0, 0, 0, 0, 0, 0, 0, 0, 0, 0, 0, 0, 0, 0, 0, 0, 0, 0, 0, 0, 0, 0, 0, 0, 0, 0, 0, 0, 0, 0, 0, 0, 0, 0, 0, 0, 0, 0, 0, 0, 0, 0, 0, 0, 0, 0, 0, 0, 0, 0, 0, 0, 0, 0, 0, 0, 0, 0, 0, 0, 0, 0, 0, 0, 0, 0, 0, 0, 0, 0, 0, 0, 0, 0, 0, 0, 0]\n"
     ]
    },
    {
     "data": {
      "application/vnd.jupyter.widget-view+json": {
       "model_id": "1901d936b1bf48c5b818e27c2c1299c4",
       "version_major": 2,
       "version_minor": 0
      },
      "text/plain": [
       "tokenizer_config.json:   0%|          | 0.00/48.0 [00:00<?, ?B/s]"
      ]
     },
     "metadata": {},
     "output_type": "display_data"
    },
    {
     "data": {
      "application/vnd.jupyter.widget-view+json": {
       "model_id": "8c0b43fac2c14bfc97f7dc3c25b4e470",
       "version_major": 2,
       "version_minor": 0
      },
      "text/plain": [
       "vocab.txt:   0%|          | 0.00/232k [00:00<?, ?B/s]"
      ]
     },
     "metadata": {},
     "output_type": "display_data"
    },
    {
     "data": {
      "application/vnd.jupyter.widget-view+json": {
       "model_id": "9cb836f15b2a420f894e22bb6c526af9",
       "version_major": 2,
       "version_minor": 0
      },
      "text/plain": [
       "tokenizer.json:   0%|          | 0.00/466k [00:00<?, ?B/s]"
      ]
     },
     "metadata": {},
     "output_type": "display_data"
    },
    {
     "data": {
      "application/vnd.jupyter.widget-view+json": {
       "model_id": "aa4ea0f099d74ff8a83c84b47a4bdbbb",
       "version_major": 2,
       "version_minor": 0
      },
      "text/plain": [
       "config.json:   0%|          | 0.00/570 [00:00<?, ?B/s]"
      ]
     },
     "metadata": {},
     "output_type": "display_data"
    },
    {
     "name": "stdout",
     "output_type": "stream",
     "text": [
      "\n",
      "Original Sample Tweet: i didnt feel humiliated\n",
      "Tokenized Output (BertTokenizerFast): ['i', 'didn', '##t', 'feel', 'humiliated']\n"
     ]
    }
   ],
   "source": [
    "###############################################################################################################\n",
    "# TODO: Tokenization of Tweets                                                                                #\n",
    "# 1. Select a Tokenization Method: Choose a suitable tokenization method to preprocess the tweets.            #\n",
    "#    Ensure that the tokenization handles special characters and maintains the integrity of the text data.    #\n",
    "# 2. Implement the Tokenizer: Once you have selected a method, implement the tokenizer to convert             #\n",
    "#    the tweet texts into sequences of tokens.                                                                #\n",
    "# 3. Test the Tokenization:                                                                                   #\n",
    "#    Verify the functionality of your tokenizer by applying it to a sample tweet from the dataset and         #\n",
    "#    displaying the resulting tokenized output.                                                               #\n",
    "###############################################################################################################\n",
    "\n",
    "from transformers import AutoTokenizer, BertTokenizerFast\n",
    "import matplotlib.pyplot as plt\n",
    "\n",
    "#-----------------------------------------------------------------------------------------\n",
    "# 1) Using AutoTokenizer (from Hugging Face) with BERT weights \"google-bert/bert-base-uncased\"\n",
    "#    for tokenizing the entire tweet corpus.\n",
    "#-----------------------------------------------------------------------------------------\n",
    "\n",
    "# Initialize the AutoTokenizer and download/cache the vocabulary\n",
    "auto_tokenizer = AutoTokenizer.from_pretrained(\"google-bert/bert-base-uncased\")\n",
    "\n",
    "# Convert tweets into sequences of token IDs using AutoTokenizer\n",
    "# The output is a dictionary; we're specifically extracting the 'input_ids' part\n",
    "tokenized_tweets = auto_tokenizer(tweets, padding=True, truncation=True)[\"input_ids\"]\n",
    "\n",
    "# Show example of a tweet before and after tokenization\n",
    "print(\"Before Tokenization (first tweet): \", tweets[0])\n",
    "print(\"After Tokenization (token IDs of first tweet): \", tokenized_tweets[0])\n",
    "\n",
    "#-----------------------------------------------------------------------------------------\n",
    "# 2) Using BertTokenizerFast (from Hugging Face) to test tokenization on a sample tweet.\n",
    "#-----------------------------------------------------------------------------------------\n",
    "\n",
    "# Initialize the BertTokenizerFast\n",
    "bert_tokenizer = BertTokenizerFast.from_pretrained('bert-base-uncased')\n",
    "\n",
    "# ADD THIS LINE: Define train_tweets using your existing tweets variable\n",
    "train_tweets = tweets\n",
    "\n",
    "# Choose a sample tweet from the training set\n",
    "sample_tweet = train_tweets[0]\n",
    "\n",
    "# Tokenize the sample tweet\n",
    "tokenized_output = bert_tokenizer.tokenize(sample_tweet)\n",
    "\n",
    "# Display the sample tweet and its tokenized version\n",
    "print(f\"\\nOriginal Sample Tweet: {sample_tweet}\")\n",
    "print(f\"Tokenized Output (BertTokenizerFast): {tokenized_output}\")  # --------------\n",
    "\n",
    "# Calculate the length (number of tokens) for each tweet\n",
    "tweet_token_lengths = [len(token_ids) for token_ids in tokenized_tweets]\n"
   ]
  },
  {
   "cell_type": "markdown",
   "metadata": {},
   "source": [
    "---\n",
    "\n",
    "## Task 5: Padding and Truncating Sequences\n",
    "\n",
    "In this task, we will prepare the tokenized tweets for model training by checking their lengths and creating padded sequences.\n",
    "\n",
    "1. **Checking the Length of the Tweets**\n",
    "   - Analyze the distribution of tweet lengths to understand the range of token counts in the dataset.\n",
    "\n",
    "2. **Creating Padded Sequences**\n",
    "   - After tokenizing the tweets, sequences of different lengths must be adjusted to a uniform length to facilitate training.\n",
    "\n",
    "---\n"
   ]
  },
  {
   "cell_type": "code",
   "execution_count": 10,
   "metadata": {
    "execution": {
     "iopub.execute_input": "2025-01-01T12:40:28.945035Z",
     "iopub.status.busy": "2025-01-01T12:40:28.944775Z",
     "iopub.status.idle": "2025-01-01T12:40:29.306912Z",
     "shell.execute_reply": "2025-01-01T12:40:29.305917Z",
     "shell.execute_reply.started": "2025-01-01T12:40:28.945014Z"
    },
    "trusted": true
   },
   "outputs": [
    {
     "data": {
      "image/png": "[encoded data removed]",
      "text/plain": [
       "<Figure size 1000x600 with 1 Axes>"
      ]
     },
     "metadata": {},
     "output_type": "display_data"
    },
    {
     "name": "stdout",
     "output_type": "stream",
     "text": [
      "Maximum length is: 66\n"
     ]
    }
   ],
   "source": [
    "#####################################################################################################################################################\n",
    "# TODO:                                                                                                                                             #\n",
    "# Implement code to calculate the lengths of the tweets and visualize the distribution using a histogram. Use an appropriate visualization library. #\n",
    "# After visualizing the distribution, determine a suitable maximum length for padding and truncating the sequences based on your findings.          #\n",
    "#####################################################################################################################################################\n",
    "\n",
    "import numpy as np\n",
    "import matplotlib.pyplot as plt\n",
    "\n",
    "# -----------------------------------------------------------------------------------------------\n",
    "# 1) Calculate the word count for each tweet in the 'tweets' list.\n",
    "# -----------------------------------------------------------------------------------------------\n",
    "word_count_per_tweet = [len(single_tweet.split()) for single_tweet in tweets]\n",
    "\n",
    "# -----------------------------------------------------------------------------------------------\n",
    "# 2) Plot the distribution of tweet lengths using a histogram.\n",
    "# -----------------------------------------------------------------------------------------------\n",
    "plt.figure(figsize=(10, 6))\n",
    "plt.hist(word_count_per_tweet, bins=30, edgecolor=\"black\", color=\"skyblue\", alpha=0.7)\n",
    "plt.title(\"Distribution of Tweet Word Lengths\")\n",
    "plt.xlabel(\"Number of Words in Each Tweet\")\n",
    "plt.ylabel(\"Frequency\")\n",
    "plt.grid(axis=\"y\", alpha=0.75)  # Improves readability of histogram\n",
    "plt.show()\n",
    "\n",
    "# -----------------------------------------------------------------------------------------------\n",
    "# 3) Print the maximum length found in the tweets.\n",
    "# -----------------------------------------------------------------------------------------------\n",
    "max_length_found = np.max(word_count_per_tweet)\n",
    "\n",
    "print(\"Maximum length is:\", max_length_found)\n"
   ]
  },
  {
   "cell_type": "code",
   "execution_count": 11,
   "metadata": {
    "execution": {
     "iopub.execute_input": "2025-01-01T12:40:29.308227Z",
     "iopub.status.busy": "2025-01-01T12:40:29.307957Z",
     "iopub.status.idle": "2025-01-01T12:40:30.260183Z",
     "shell.execute_reply": "2025-01-01T12:40:30.259285Z",
     "shell.execute_reply.started": "2025-01-01T12:40:29.308202Z"
    },
    "trusted": true
   },
   "outputs": [
    {
     "name": "stdout",
     "output_type": "stream",
     "text": [
      "First padded sequence:\n",
      " [101, 1045, 2134, 2102, 2514, 26608, 102, 0, 0, 0, 0, 0, 0, 0, 0, 0, 0, 0, 0, 0, 0, 0, 0, 0, 0, 0, 0, 0, 0, 0, 0, 0, 0, 0, 0, 0, 0, 0, 0, 0, 0, 0, 0, 0, 0, 0, 0, 0, 0, 0]\n",
      "Length of the first padded sequence: 50\n"
     ]
    }
   ],
   "source": [
    "############################################################################################################\n",
    "# TODO: Define a function to convert the tokenized tweets into sequences and apply padding and truncation. # \n",
    "# Use your determined maximum length for padding the sequences.                                            #\n",
    "############################################################################################################\n",
    "\n",
    "import matplotlib.pyplot as plt\n",
    "import numpy as np\n",
    "\n",
    "tokenizer = auto_tokenizer  \n",
    "\n",
    "def get_sequences(tokenizer, tweets):\n",
    "    \"\"\"\n",
    "    This function takes a tokenizer and a list of tweets, converts them into \n",
    "    tokenized sequences, and applies padding/truncation to a fixed length of 50. \n",
    "    \"\"\"\n",
    "    # Convert tweets into input_ids (token IDs), no padding/truncation here\n",
    "    raw_token_ids = tokenizer(tweets)[\"input_ids\"]\n",
    "    \n",
    "    max_seq_length = 50  # Determined maximum length for padding/truncation\n",
    "    padded_seq_collection = []\n",
    "\n",
    "    # Iterate over each tokenized sequence and pad or truncate to 'max_seq_length'\n",
    "    for single_sequence in raw_token_ids:\n",
    "        seq_length = len(single_sequence)\n",
    "        \n",
    "        if seq_length > max_seq_length:\n",
    "            # Truncate sequence if it's longer than the desired length\n",
    "            new_sequence = single_sequence[:max_seq_length]\n",
    "        elif seq_length < max_seq_length:\n",
    "            # Pad sequence with zeros if it's shorter than the desired length\n",
    "            new_sequence = single_sequence + [0] * (max_seq_length - seq_length)\n",
    "        else:\n",
    "            # If sequence length already matches max_seq_length, no changes needed\n",
    "            new_sequence = single_sequence\n",
    "        \n",
    "        padded_seq_collection.append(new_sequence)\n",
    "    \n",
    "    return padded_seq_collection\n",
    "\n",
    "# Create padded/truncated sequences using the tokenizer and tweets\n",
    "padded_train_sequences = get_sequences(tokenizer, tweets)\n",
    "\n",
    "# Visualize the distribution of the sequence lengths after padding/truncation\n",
    "sequence_lengths_after_padding = [len(seq) for seq in padded_train_sequences]\n",
    "\n",
    "\n",
    "# Display the first padded sequence for confirmation\n",
    "print(\"First padded sequence:\\n\", padded_train_sequences[0])\n",
    "print(\"Length of the first padded sequence:\", len(padded_train_sequences[0]))\n"
   ]
  },
  {
   "cell_type": "markdown",
   "metadata": {
    "id": "BURhOX_KxIg8"
   },
   "source": [
    "---\n",
    "\n",
    "## Task 6: Analyzing Label Distribution\n",
    "\n",
    "1. Checking the distribution of labels.\n",
    "2. Addressing any class imbalance using appropriate techniques.\n",
    "\n",
    "Note:\n",
    "\n",
    "(**Providing a clear explanation of the chosen method to address the imbalance and how it will improve the model’s performance is critical.** Without handling class imbalance properly, the model could achieve a high accuracy by focusing on the majority class, but it may perform poorly on the minority class, which would result in misleading metrics and reduced generalization.\n",
    "\n",
    "Hence, it is important to not only implement an appropriate solution but also **justify** why the selected approach is effective for the given task.)\n",
    "\n",
    "---"
   ]
  },
  {
   "cell_type": "code",
   "execution_count": 12,
   "metadata": {
    "execution": {
     "iopub.execute_input": "2025-01-01T12:40:30.261377Z",
     "iopub.status.busy": "2025-01-01T12:40:30.261081Z",
     "iopub.status.idle": "2025-01-01T12:40:30.645734Z",
     "shell.execute_reply": "2025-01-01T12:40:30.645006Z",
     "shell.execute_reply.started": "2025-01-01T12:40:30.261354Z"
    },
    "id": "SufT2bpD5ejE",
    "trusted": true
   },
   "outputs": [
    {
     "name": "stderr",
     "output_type": "stream",
     "text": [
      "/usr/local/lib/python3.10/dist-packages/seaborn/_oldcore.py:1765: FutureWarning: unique with argument that is not not a Series, Index, ExtensionArray, or np.ndarray is deprecated and will raise in a future version.\n",
      "  order = pd.unique(vector)\n"
     ]
    },
    {
     "data": {
      "image/png": "[encoded data removed]",
      "text/plain": [
       "<Figure size 1000x600 with 1 Axes>"
      ]
     },
     "metadata": {},
     "output_type": "display_data"
    },
    {
     "name": "stdout",
     "output_type": "stream",
     "text": [
      "Computed class weights: [0.57151022 0.49732687 2.04498978 1.23513973 1.37669936 4.66200466]\n",
      "Class weights tensor:\n",
      " tensor([0.5715, 0.4973, 2.0450, 1.2351, 1.3767, 4.6620])\n"
     ]
    }
   ],
   "source": [
    "##########################################################################################################################\n",
    "# TODO: Analyze the distribution of labels in the training set. (visualize it in a perfect way)                          #\n",
    "# Determine if there is any class imbalance.                                                                             #\n",
    "# If you observe any imbalance, apply one of the techniques you have learned throughout the course to address the issue. #\n",
    "##########################################################################################################################\n",
    "\n",
    "import torch\n",
    "import numpy as np\n",
    "import matplotlib.pyplot as plt\n",
    "import seaborn as sns\n",
    "from collections import Counter\n",
    "from sklearn.utils.class_weight import compute_class_weight\n",
    "from torch.utils.data import Dataset, DataLoader, WeightedRandomSampler\n",
    "\n",
    "# 1) Gather and count label frequencies using a Counter\n",
    "label_distribution = Counter(labels)  # Renamed variable for clarity\n",
    "\n",
    "class_list = list(label_distribution.keys())  \n",
    "count_list = list(label_distribution.values())  \n",
    "\n",
    "# 2) Enhanced visualization of label distribution\n",
    "sns.set_style(\"whitegrid\")  # Additional styling for better readability\n",
    "plt.figure(figsize=(10, 6))\n",
    "\n",
    "bar_chart = sns.barplot(x=class_list, y=count_list, palette='viridis')\n",
    "plt.title(\"Distribution of Labels in the Training Set\", fontsize=14, fontweight='bold')\n",
    "plt.xlabel(\"Label Classes\", fontsize=12)\n",
    "plt.ylabel(\"Number of Samples\", fontsize=12)\n",
    "\n",
    "# Annotate each bar with its corresponding count\n",
    "for idx, val in enumerate(count_list):\n",
    "    bar_chart.text(idx, val + 0.5, str(val), ha='center', va='bottom', \n",
    "                   color='black', fontweight='bold')\n",
    "\n",
    "plt.show()\n",
    "\n",
    "# 3) Check class imbalance by computing class weights (already addressing imbalance at the loss level)\n",
    "labels_array = np.array(labels)  # Renamed variable for clarity\n",
    "balanced_weights = compute_class_weight(\n",
    "    class_weight='balanced',\n",
    "    classes=np.unique(labels_array),\n",
    "    y=labels_array\n",
    ")\n",
    "\n",
    "weight_tensor = torch.tensor(balanced_weights, dtype=torch.float)  # Renamed variable for clarity\n",
    "\n",
    "# Display the results\n",
    "print(\"Computed class weights:\", balanced_weights)\n",
    "print(\"Class weights tensor:\\n\", weight_tensor)\n"
   ]
  },
  {
   "cell_type": "markdown",
   "metadata": {},
   "source": [
    "## Enhancing Deep Learning with Class Weighting in Loss Functions for Imbalanced Datasets\n",
    "\n",
    "In the realm of deep learning, handling imbalanced datasets is a critical challenge that can significantly impact model performance. One effective strategy to mitigate this issue is the incorporation of class weighting within loss functions. This approach offers numerous advantages, ensuring that models perform robustly even when faced with skewed class distributions. Below, we delve into the multifaceted benefits of class weighting and explore its role in optimizing deep learning models.\n",
    "\n",
    "### 1. Mitigating Class Imbalance\n",
    "\n",
    "**Challenge:**  \n",
    "Imbalanced datasets, where certain classes are underrepresented compared to others, can lead models to develop a bias towards the majority class. This bias often results in subpar performance when predicting the minority class, which might be of greater interest in many applications (e.g., fraud detection, medical diagnoses).\n",
    "\n",
    "**Solution:**  \n",
    "Implementing class weights adjusts the significance of each class during training. By assigning higher weights to minority classes, the loss function penalizes misclassifications of these classes more severely. This encourages the model to pay closer attention to the minority class, fostering a more balanced recognition and improving its ability to accurately predict less frequent classes.\n",
    "\n",
    "### 2. Enhancing Model Performance Metrics\n",
    "\n",
    "**Beyond Accuracy:**  \n",
    "Accuracy is a common metric for evaluating model performance but can be misleading in imbalanced scenarios. For instance, in a dataset where 95% of instances belong to one class, a model achieving 95% accuracy might still fail to identify any instances of the minority class.\n",
    "\n",
    "**Improved Metrics:**  \n",
    "Class weighting directly influences more informative metrics such as F1-score, precision, and recall, particularly for the minority class. By emphasizing the importance of correctly predicting the minority class, class weighting ensures that these metrics provide a more accurate reflection of the model's true performance. This leads to models that are not only accurate but also reliable across all classes.\n",
    "\n",
    "### 3. Balancing Gradient Contributions\n",
    "\n",
    "**Dynamic Loss Adjustment:**  \n",
    "Class weights modify how each class contributes to the overall loss during training. In practice, this means that errors made on the minority class have a more substantial impact on the loss, prompting the model to adjust its parameters more aggressively to correct these mistakes.\n",
    "\n",
    "**Training Equilibrium:**  \n",
    "This balancing act ensures that gradient updates—adjustments made to the model's weights based on the loss—are not overwhelmingly influenced by the majority class. Instead, both classes contribute meaningfully to the learning process, allowing the model to develop a nuanced understanding of the data distribution and learn features that are relevant to all classes.\n",
    "\n",
    "### 4. Providing Flexibility and Adaptability\n",
    "\n",
    "**Customizable Weighting Schemes:**  \n",
    "Class weights are not a one-size-fits-all solution. They can be tailored to the specific degree of imbalance present in a dataset. Practitioners can manually adjust these weights based on domain knowledge or empirical observations, ensuring that the model's emphasis aligns with the particular needs of the task.\n",
    "\n",
    "**Adaptable Across Domains:**  \n",
    "Different applications and datasets may exhibit varying levels of imbalance and complexity. The flexibility of class weighting allows it to be adapted to diverse scenarios, making it a versatile tool in the deep learning toolkit. Whether dealing with binary classification, multi-class problems, or even multi-label tasks, class weighting can be fine-tuned to enhance model performance effectively.\n",
    "\n",
    "### 5. Preventing Overfitting and Promoting Generalization\n",
    "\n",
    "**Balanced Learning:**  \n",
    "Focusing excessively on the majority class can cause models to overfit, learning patterns that do not generalize well to unseen data. By giving more attention to the minority class, class weighting encourages the model to learn more generalized features that are applicable across all classes.\n",
    "\n",
    "**Enhanced Generalization:**  \n",
    "This balanced approach reduces the risk of the model becoming overly specialized on the majority class, thereby improving its ability to generalize to new, unseen instances. As a result, models trained with class weighting are better equipped to perform consistently well across all classes, ensuring reliable performance in real-world applications.\n",
    "\n",
    "### 6. Facilitating Fairness and Reducing Bias\n",
    "\n",
    "**Ethical Considerations:**  \n",
    "In many applications, such as healthcare or criminal justice, biased models can have serious ethical implications. Class weighting helps in promoting fairness by ensuring that minority groups are adequately represented and considered in the model's predictions.\n",
    "\n",
    "**Bias Mitigation:**  \n",
    "By actively counteracting the natural imbalance in the data, class weighting serves as a mechanism to mitigate inherent biases, fostering the development of more equitable and just AI systems.\n",
    "\n",
    "### 7. Streamlining the Training Process\n",
    "\n",
    "**Simplified Implementation:**  \n",
    "Incorporating class weights into loss functions is relatively straightforward and can be seamlessly integrated into existing deep learning frameworks. This ease of implementation makes it an attractive option for practitioners looking to enhance model performance without extensive modifications to their training pipelines.\n",
    "\n",
    "**Efficiency Gains:**  \n",
    "By addressing class imbalance early in the training process, class weighting can lead to faster convergence and more efficient learning. Models are less likely to require extensive epochs to learn the minority class, saving computational resources and time.\n",
    "\n",
    "### 8. Complementing Other Imbalance Techniques\n",
    "\n",
    "**Synergistic Effects:**  \n",
    "Class weighting can be effectively combined with other strategies for handling imbalanced data, such as data augmentation, resampling techniques, or advanced algorithms like Synthetic Minority Over-sampling Technique (SMOTE). This complementary use can amplify the benefits, leading to even more robust and accurate models.\n",
    "\n",
    "**Holistic Approach:**  \n",
    "Adopting a multi-faceted approach to handling imbalance ensures that models are well-equipped to handle the complexities of real-world data, where multiple factors contribute to class distribution and model performance.\n",
    "\n",
    "---\n",
    "\n",
    "In summary, class weighting in loss functions is a powerful and versatile technique for addressing class imbalance in deep learning. By adjusting the importance of different classes during training, it not only enhances model performance across critical metrics but also promotes fairness, prevents overfitting, and streamlines the training process. Whether used in isolation or alongside other imbalance-handling strategies, class weighting is an essential tool for developing robust and reliable deep learning models capable of performing effectively in diverse and challenging environments."
   ]
  },
  {
   "cell_type": "markdown",
   "metadata": {
    "id": "c-v0Mnh8xIhP"
   },
   "source": [
    "---\n",
    "\n",
    "## Task 7: Creating the Model\n",
    "\n",
    "Design and implement a recurrent neural network for the task. You may utilize a sequential architecture like RNN or GRU to enhance the model's performance.\n",
    "\n",
    "Build and compile your model using Pytorch.\n",
    "\n",
    "**Once the model is created, summarize its structure to verify the design.**\n",
    "\n",
    "---"
   ]
  },
  {
   "cell_type": "code",
   "execution_count": 13,
   "metadata": {
    "execution": {
     "iopub.execute_input": "2025-01-01T12:40:30.646770Z",
     "iopub.status.busy": "2025-01-01T12:40:30.646537Z",
     "iopub.status.idle": "2025-01-01T12:40:30.652632Z",
     "shell.execute_reply": "2025-01-01T12:40:30.651836Z",
     "shell.execute_reply.started": "2025-01-01T12:40:30.646750Z"
    },
    "id": "OpewXxPQ5eji",
    "trusted": true
   },
   "outputs": [],
   "source": [
    "#########################################################################################################\n",
    "# TODO:                                                                                                 #\n",
    "# Create a recurrent neural network model for the task.                                                 #\n",
    "# (Suggestion: Implement a Bidirectional LSTM architecture to process the input sequences effectively.) #\n",
    "# Once the model is created, summarize its structure to verify the design.                              #\n",
    "#########################################################################################################\n",
    "\n",
    "import torch\n",
    "import torch.nn as nn\n",
    "import matplotlib.pyplot as plt\n",
    "import numpy as np\n",
    "\n",
    "class BiLSTMModel(nn.Module):\n",
    "    \"\"\"\n",
    "    A Bidirectional LSTM model for sequence classification.\n",
    "    - We preserve the function name, parameters, and arguments from previous sections.\n",
    "    - Internal attributes and variables have been renamed for clarity and additional dropout is included.\n",
    "    \"\"\"\n",
    "\n",
    "    def __init__(self, vocab_size, embedding_dim, hidden_dim, output_dim, p=0.5):\n",
    "        super(BiLSTMModel, self).__init__()\n",
    "        # Renamed internal layers for clarity\n",
    "        self.embedding_layer = nn.Embedding(vocab_size, embedding_dim)\n",
    "        self.bidirectional_lstm = nn.LSTM(\n",
    "            input_size=embedding_dim, \n",
    "            hidden_size=hidden_dim, \n",
    "            bidirectional=True, \n",
    "            batch_first=True\n",
    "        )\n",
    "        self.dropout_layer = nn.Dropout(p)\n",
    "        self.output_layer = nn.Linear(hidden_dim * 2, output_dim)\n",
    "\n",
    "    def forward(self, x):\n",
    "        # Pass inputs through the embedding layer\n",
    "        embed_tensor = self.embedding_layer(x)\n",
    "\n",
    "        # Pass embeddings through the Bidirectional LSTM\n",
    "        bilstm_out, _ = self.bidirectional_lstm(embed_tensor)\n",
    "\n",
    "        # Extract the final hidden states from the last time step\n",
    "        bilstm_out = bilstm_out[:, -1, :]  # shape: (batch_size, hidden_dim*2)\n",
    "\n",
    "        # Optional dropout for regularization\n",
    "        dropped_output = self.dropout_layer(bilstm_out)\n",
    "\n",
    "        # Final linear layer to get logits\n",
    "        logits_out = self.output_layer(dropped_output)\n",
    "\n",
    "        return logits_out\n",
    "\n",
    "\n"
   ]
  },
  {
   "cell_type": "markdown",
   "metadata": {
    "id": "1HST_CHjxIhR"
   },
   "source": [
    "---\n",
    "\n",
    "## Task 8: Training the Model\n",
    "\n",
    "In this task, you will prepare a validation set and train your model using the training data.\n",
    "\n",
    "1. Prepare the validation set by extracting tweets and labels, and convert them into sequences using the tokenizer.\n",
    "2. Train the model on the training data.\n",
    "3. Ensure that you implement **Early Stopping** to prevent overfitting and enhance efficiency.\n",
    "\n",
    "Make sure to monitor the validation accuracy during training and adjust the parameters as necessary.\n",
    "\n",
    "---"
   ]
  },
  {
   "cell_type": "code",
   "execution_count": 14,
   "metadata": {
    "execution": {
     "iopub.execute_input": "2025-01-01T12:40:30.653621Z",
     "iopub.status.busy": "2025-01-01T12:40:30.653382Z",
     "iopub.status.idle": "2025-01-01T12:41:02.456496Z",
     "shell.execute_reply": "2025-01-01T12:41:02.455780Z",
     "shell.execute_reply.started": "2025-01-01T12:40:30.653592Z"
    },
    "id": "Ff7F3hCK5ejm",
    "trusted": true
   },
   "outputs": [
    {
     "name": "stderr",
     "output_type": "stream",
     "text": [
      "/usr/local/lib/python3.10/dist-packages/transformers/tokenization_utils_base.py:1601: FutureWarning: `clean_up_tokenization_spaces` was not set. It will be set to `True` by default. This behavior will be depracted in transformers v4.45, and will be then set to `False` by default. For more details check this issue: https://github.com/huggingface/transformers/issues/31884\n",
      "  warnings.warn(\n"
     ]
    },
    {
     "name": "stdout",
     "output_type": "stream",
     "text": [
      "Epoch 1/30\n",
      "Train Loss: 1.5920 | Train Acc: 32.20%\n",
      "Val Loss: 1.5864 | Val Acc: 34.80%\n",
      "\n",
      "Epoch 2/30\n",
      "Train Loss: 1.5819 | Train Acc: 33.05%\n",
      "Val Loss: 1.5855 | Val Acc: 34.90%\n",
      "\n",
      "Epoch 3/30\n",
      "Train Loss: 1.5770 | Train Acc: 33.24%\n",
      "Val Loss: 1.5871 | Val Acc: 34.85%\n",
      "\n",
      "Epoch 4/30\n",
      "Train Loss: 1.5703 | Train Acc: 33.71%\n",
      "Val Loss: 1.5919 | Val Acc: 34.65%\n",
      "\n",
      "Epoch 5/30\n",
      "Train Loss: 1.5623 | Train Acc: 34.44%\n",
      "Val Loss: 1.6038 | Val Acc: 33.80%\n",
      "\n",
      "Epoch 6/30\n",
      "Train Loss: 1.4709 | Train Acc: 43.01%\n",
      "Val Loss: 1.2878 | Val Acc: 54.05%\n",
      "\n",
      "Epoch 7/30\n",
      "Train Loss: 1.1559 | Train Acc: 58.18%\n",
      "Val Loss: 1.0702 | Val Acc: 60.80%\n",
      "\n",
      "Epoch 8/30\n",
      "Train Loss: 0.8760 | Train Acc: 68.29%\n",
      "Val Loss: 0.8323 | Val Acc: 69.60%\n",
      "\n",
      "Epoch 9/30\n",
      "Train Loss: 0.6354 | Train Acc: 77.12%\n",
      "Val Loss: 0.6692 | Val Acc: 75.70%\n",
      "\n",
      "Epoch 10/30\n",
      "Train Loss: 0.4435 | Train Acc: 84.86%\n",
      "Val Loss: 0.6248 | Val Acc: 80.60%\n",
      "\n",
      "Epoch 11/30\n",
      "Train Loss: 0.3187 | Train Acc: 89.58%\n",
      "Val Loss: 0.5265 | Val Acc: 82.60%\n",
      "\n",
      "Epoch 12/30\n",
      "Train Loss: 0.2568 | Train Acc: 91.43%\n",
      "Val Loss: 0.5012 | Val Acc: 84.75%\n",
      "\n",
      "Epoch 13/30\n",
      "Train Loss: 0.2000 | Train Acc: 93.23%\n",
      "Val Loss: 0.4130 | Val Acc: 87.40%\n",
      "\n",
      "Epoch 14/30\n",
      "Train Loss: 0.1411 | Train Acc: 95.41%\n",
      "Val Loss: 0.4564 | Val Acc: 87.65%\n",
      "\n",
      "Epoch 15/30\n",
      "Train Loss: 0.1087 | Train Acc: 96.62%\n",
      "Val Loss: 0.4274 | Val Acc: 88.45%\n",
      "\n",
      "Epoch 16/30\n",
      "Train Loss: 0.1013 | Train Acc: 96.73%\n",
      "Val Loss: 0.4413 | Val Acc: 88.55%\n",
      "\n",
      "Epoch 17/30\n",
      "Train Loss: 0.0902 | Train Acc: 97.24%\n",
      "Val Loss: 0.4331 | Val Acc: 88.95%\n",
      "\n",
      "Epoch 18/30\n",
      "Train Loss: 0.0797 | Train Acc: 97.51%\n",
      "Val Loss: 0.4587 | Val Acc: 89.35%\n",
      "\n",
      "Early stopping triggered!\n"
     ]
    },
    {
     "name": "stderr",
     "output_type": "stream",
     "text": [
      "<ipython-input-14-01086263e8fc>:280: FutureWarning: You are using `torch.load` with `weights_only=False` (the current default value), which uses the default pickle module implicitly. It is possible to construct malicious pickle data which will execute arbitrary code during unpickling (See https://github.com/pytorch/pytorch/blob/main/SECURITY.md#untrusted-models for more details). In a future release, the default value for `weights_only` will be flipped to `True`. This limits the functions that could be executed during unpickling. Arbitrary objects will no longer be allowed to be loaded via this mode unless they are explicitly allowlisted by the user via `torch.serialization.add_safe_globals`. We recommend you start setting `weights_only=True` for any use case where you don't have full control of the loaded file. Please open an issue on GitHub for any issues related to this experimental feature.\n",
      "  model.load_state_dict(torch.load(\"best_bilstm_model.pth\"))\n"
     ]
    },
    {
     "data": {
      "text/plain": [
       "<All keys matched successfully>"
      ]
     },
     "execution_count": 14,
     "metadata": {},
     "output_type": "execute_result"
    }
   ],
   "source": [
    "#########################################################################################################\n",
    "# COMPLETE CODE EXAMPLE                                                                                  #\n",
    "# This script:                                                                                           #\n",
    "#  1) Loads the \"emotion\" dataset (if not already loaded).                                              #\n",
    "#  2) Splits it into train/validation/test sets.                                                         #\n",
    "#  3) Extracts tweets & labels.                                                                          #\n",
    "#  4) Tokenizes & pads sequences (BiLSTM input).                                                         #\n",
    "#  5) Defines a BiLSTM model (with recommended improvements).                                            #\n",
    "#  6) Trains the model (optionally with class weighting).                                                #\n",
    "#  7) Uses early stopping & loads the best model state.                                                  #\n",
    "#  8) Evaluates the model on validation set, prints accuracy, and plots training curves.                 #\n",
    "#########################################################################################################\n",
    "\n",
    "import torch\n",
    "import torch.nn as nn\n",
    "import matplotlib.pyplot as plt\n",
    "import numpy as np\n",
    "import seaborn as sns\n",
    "from collections import Counter\n",
    "from torch.utils.data import TensorDataset, DataLoader\n",
    "from torch.optim import Adam\n",
    "from sklearn.metrics import confusion_matrix, classification_report\n",
    "from sklearn.utils.class_weight import compute_class_weight\n",
    "from datasets import load_dataset\n",
    "from transformers import BertTokenizerFast, AutoTokenizer\n",
    "\n",
    "################################################################################\n",
    "# 1) Load the dataset (emotion), if not already done\n",
    "################################################################################\n",
    "try:\n",
    "    dataset\n",
    "except NameError:\n",
    "    # Only load if 'dataset' doesn't exist already\n",
    "    dataset = load_dataset('emotion')\n",
    "\n",
    "# We assume 'dataset' has train/validation/test splits\n",
    "training = dataset['train']\n",
    "validation = dataset['validation']\n",
    "test = dataset['test']\n",
    "\n",
    "################################################################################\n",
    "# 2) Simple data extraction function for tweets & labels\n",
    "################################################################################\n",
    "def extract_tweets_labels(data_split):\n",
    "    \"\"\"\n",
    "    Returns lists for 'tweets' and 'labels' from a HuggingFace DatasetDict split.\n",
    "    \"\"\"\n",
    "    extracted_tweets = data_split[\"text\"]\n",
    "    extracted_labels = data_split[\"label\"]\n",
    "    return extracted_tweets, extracted_labels\n",
    "\n",
    "# Extract for training\n",
    "tweets, labels = extract_tweets_labels(training)\n",
    "val_tweets, val_labels = extract_tweets_labels(validation)\n",
    "test_tweets, test_labels = extract_tweets_labels(test)\n",
    "\n",
    "################################################################################\n",
    "# 3) Tokenization & Sequence Preparation\n",
    "#    - We define two tokenizers to showcase usage (BERT & AutoTokenizer).\n",
    "#      Use only one in practice. We'll pick the BERT tokenizer for final usage.\n",
    "################################################################################\n",
    "\n",
    "# Option A) Using AutoTokenizer\n",
    "auto_tokenizer = AutoTokenizer.from_pretrained(\"google-bert/bert-base-uncased\")\n",
    "\n",
    "# Option B) Using BertTokenizerFast\n",
    "bert_tokenizer = BertTokenizerFast.from_pretrained('bert-base-uncased')\n",
    "\n",
    "# We'll choose one for final usage:\n",
    "tokenizer = bert_tokenizer  # or auto_tokenizer\n",
    "\n",
    "################################################################################\n",
    "# 4) Convert text to padded/truncated sequences\n",
    "################################################################################\n",
    "def get_sequences(tok, text_list, max_seq_length=50):\n",
    "    \"\"\"\n",
    "    Takes a tokenizer and a list of text (tweets). Returns a list of integer IDs,\n",
    "    each padded/truncated to 'max_seq_length'.\n",
    "    \"\"\"\n",
    "    # Tokenize (no padding/truncation in tokenizer call here)\n",
    "    raw_ids = tok(text_list)[\"input_ids\"]\n",
    "    padded_sequences = []\n",
    "\n",
    "    for seq in raw_ids:\n",
    "        if len(seq) > max_seq_length:\n",
    "            new_seq = seq[:max_seq_length]\n",
    "        elif len(seq) < max_seq_length:\n",
    "            new_seq = seq + [0] * (max_seq_length - len(seq))\n",
    "        else:\n",
    "            new_seq = seq\n",
    "        padded_sequences.append(new_seq)\n",
    "\n",
    "    return padded_sequences\n",
    "\n",
    "# Prepare training, validation, test sequences\n",
    "padded_train_sequences = get_sequences(tokenizer, tweets)\n",
    "padded_val_sequences = get_sequences(tokenizer, val_tweets)\n",
    "padded_test_sequences = get_sequences(tokenizer, test_tweets)\n",
    "\n",
    "################################################################################\n",
    "# 5) Create a BiLSTM Model\n",
    "#    - We increase hidden_dim from 64 to 128 for better capacity.\n",
    "#    - We allow an optional dropout rate (default=0.5).\n",
    "################################################################################\n",
    "class BiLSTMModel(nn.Module):\n",
    "    \"\"\"\n",
    "    Bidirectional LSTM model for multi-class classification.\n",
    "    \"\"\"\n",
    "    def __init__(self, vocab_size, embedding_dim, hidden_dim, output_dim, p=0.5):\n",
    "        super(BiLSTMModel, self).__init__()\n",
    "        # Embedding layer\n",
    "        self.embedding_layer = nn.Embedding(vocab_size, embedding_dim)\n",
    "        # Bidirectional LSTM\n",
    "        self.bilstm = nn.LSTM(\n",
    "            input_size=embedding_dim,\n",
    "            hidden_size=hidden_dim,\n",
    "            batch_first=True,\n",
    "            bidirectional=True\n",
    "        )\n",
    "        # Dropout\n",
    "        self.dropout_layer = nn.Dropout(p)\n",
    "        # Final linear layer\n",
    "        self.fc_output = nn.Linear(hidden_dim*2, output_dim)\n",
    "\n",
    "    def forward(self, input_batch):\n",
    "        \"\"\"\n",
    "        input_batch shape: (batch_size, seq_len)\n",
    "        \"\"\"\n",
    "        embedded = self.embedding_layer(input_batch)  # (batch_size, seq_len, embedding_dim)\n",
    "        bilstm_out, _ = self.bilstm(embedded)         # (batch_size, seq_len, hidden_dim*2)\n",
    "        # We take the last time step:\n",
    "        last_timestep = bilstm_out[:, -1, :]          # (batch_size, hidden_dim*2)\n",
    "        dropped = self.dropout_layer(last_timestep)\n",
    "        logits = self.fc_output(dropped)\n",
    "        return logits\n",
    "\n",
    "################################################################################\n",
    "# 6) Convert data to Tensors, build Datasets & DataLoaders\n",
    "################################################################################\n",
    "train_tensor_sequences = torch.tensor(padded_train_sequences, dtype=torch.long)\n",
    "train_tensor_labels = torch.tensor(labels, dtype=torch.long)\n",
    "\n",
    "val_tensor_sequences = torch.tensor(padded_val_sequences, dtype=torch.long)\n",
    "val_tensor_labels = torch.tensor(val_labels, dtype=torch.long)\n",
    "\n",
    "test_tensor_sequences = torch.tensor(padded_test_sequences, dtype=torch.long)\n",
    "test_tensor_labels = torch.tensor(test_labels, dtype=torch.long)\n",
    "\n",
    "train_dataset = TensorDataset(train_tensor_sequences, train_tensor_labels)\n",
    "val_dataset = TensorDataset(val_tensor_sequences, val_tensor_labels)\n",
    "test_dataset = TensorDataset(test_tensor_sequences, test_tensor_labels)\n",
    "\n",
    "train_loader = DataLoader(train_dataset, batch_size=64, shuffle=True)\n",
    "val_loader = DataLoader(val_dataset, batch_size=64, shuffle=False)\n",
    "test_loader = DataLoader(test_dataset, batch_size=64, shuffle=False)\n",
    "\n",
    "################################################################################\n",
    "# 7) Handling Class Imbalance (Optional)\n",
    "#    - If the dataset is imbalanced, compute class weights & pass them to the loss.\n",
    "################################################################################\n",
    "# If your data is heavily imbalanced, you can compute class weights:\n",
    "labels_np = np.array(labels)\n",
    "unique_classes = np.unique(labels_np)\n",
    "class_weights = compute_class_weight(\n",
    "    class_weight=\"balanced\",\n",
    "    classes=unique_classes,\n",
    "    y=labels_np\n",
    ")\n",
    "class_weights_tensor = torch.tensor(class_weights, dtype=torch.float)\n",
    "\n",
    "################################################################################\n",
    "# 8) Instantiate Model, Loss, Optimizer, etc. \n",
    "#    - We use a bigger hidden_dim (128) than your original 64 for better capacity.\n",
    "################################################################################\n",
    "device = torch.device('cuda' if torch.cuda.is_available() else 'cpu')\n",
    "\n",
    "vocab_size = tokenizer.vocab_size\n",
    "embedding_dim = 128\n",
    "hidden_dim = 128   # Increased from 64 to 128\n",
    "output_dim = 6     # For emotion dataset\n",
    "dropout_rate = 0.5\n",
    "\n",
    "model = BiLSTMModel(\n",
    "    vocab_size=vocab_size,\n",
    "    embedding_dim=embedding_dim,\n",
    "    hidden_dim=hidden_dim,\n",
    "    output_dim=output_dim,\n",
    "    p=dropout_rate\n",
    ").to(device)\n",
    "\n",
    "# Loss with class weights (uncomment if you want to use them)\n",
    "# criterion = nn.CrossEntropyLoss(weight=class_weights_tensor.to(device))\n",
    "# Or if you prefer no weighting, just do:\n",
    "criterion = nn.CrossEntropyLoss()\n",
    "\n",
    "optimizer = Adam(model.parameters(), lr=1e-3)\n",
    "\n",
    "################################################################################\n",
    "# 9) Training Loop with Validation & Early Stopping\n",
    "################################################################################\n",
    "num_epochs = 30\n",
    "patience = 5\n",
    "\n",
    "train_losses, val_losses = [], []\n",
    "train_accs, val_accs = [], []\n",
    "\n",
    "best_val_loss = float(\"inf\")\n",
    "early_stop_counter = 0\n",
    "\n",
    "for epoch in range(num_epochs):\n",
    "\n",
    "    # --------------------- Training Phase ---------------------\n",
    "    model.train()\n",
    "    total_train_loss = 0.0\n",
    "    correct_train = 0\n",
    "    total_train = 0\n",
    "\n",
    "    for seq_batch, label_batch in train_loader:\n",
    "        seq_batch = seq_batch.to(device)\n",
    "        label_batch = label_batch.to(device)\n",
    "\n",
    "        optimizer.zero_grad()\n",
    "        logits = model(seq_batch)\n",
    "        loss = criterion(logits, label_batch)\n",
    "        loss.backward()\n",
    "        optimizer.step()\n",
    "\n",
    "        total_train_loss += loss.item() * seq_batch.size(0)\n",
    "        _, preds = torch.max(logits, dim=1)\n",
    "        correct_train += (preds == label_batch).sum().item()\n",
    "        total_train += label_batch.size(0)\n",
    "\n",
    "    train_loss = total_train_loss / total_train\n",
    "    train_acc = (correct_train / total_train) * 100\n",
    "\n",
    "    train_losses.append(train_loss)\n",
    "    train_accs.append(train_acc)\n",
    "\n",
    "    # --------------------- Validation Phase ---------------------\n",
    "    model.eval()\n",
    "    total_val_loss = 0.0\n",
    "    correct_val = 0\n",
    "    total_val = 0\n",
    "\n",
    "    with torch.no_grad():\n",
    "        for val_seq_batch, val_label_batch in val_loader:\n",
    "            val_seq_batch = val_seq_batch.to(device)\n",
    "            val_label_batch = val_label_batch.to(device)\n",
    "\n",
    "            val_logits = model(val_seq_batch)\n",
    "            val_loss = criterion(val_logits, val_label_batch)\n",
    "\n",
    "            total_val_loss += val_loss.item() * val_seq_batch.size(0)\n",
    "            _, val_preds = torch.max(val_logits, dim=1)\n",
    "            correct_val += (val_preds == val_label_batch).sum().item()\n",
    "            total_val += val_label_batch.size(0)\n",
    "\n",
    "    epoch_val_loss = total_val_loss / total_val\n",
    "    epoch_val_acc = (correct_val / total_val) * 100\n",
    "\n",
    "    val_losses.append(epoch_val_loss)\n",
    "    val_accs.append(epoch_val_acc)\n",
    "\n",
    "    print(f\"Epoch {epoch+1}/{num_epochs}\")\n",
    "    print(f\"Train Loss: {train_loss:.4f} | Train Acc: {train_acc:.2f}%\")\n",
    "    print(f\"Val Loss: {epoch_val_loss:.4f} | Val Acc: {epoch_val_acc:.2f}%\\n\")\n",
    "\n",
    "    # Early Stopping Check\n",
    "    if epoch_val_loss < best_val_loss:\n",
    "        best_val_loss = epoch_val_loss\n",
    "        early_stop_counter = 0\n",
    "        torch.save(model.state_dict(), \"best_bilstm_model.pth\")\n",
    "    else:\n",
    "        early_stop_counter += 1\n",
    "        if early_stop_counter >= patience:\n",
    "            print(\"Early stopping triggered!\")\n",
    "            break\n",
    "\n",
    "# Load the best model state\n",
    "model.load_state_dict(torch.load(\"best_bilstm_model.pth\"))\n",
    "\n",
    "\n",
    "\n"
   ]
  },
  {
   "cell_type": "markdown",
   "metadata": {},
   "source": [
    "---\n",
    "\n",
    "## Task 9: Evaluating the Model\n",
    "\n",
    "In this task, you will evaluate the performance of your model on the test set and visualize the training history. You will also analyze the model’s predictions on both individual and complete test samples.\n",
    "\n",
    "### Steps:\n",
    "1. Visualize the loss and accuracy over the training epochs.\n",
    "2. Prepare and preprocess the test data using functions from Task 2.\n",
    "3. Evaluate the model on the test set and examine individual predictions.\n",
    "4. Analyze the overall predictions and display a confusion matrix.\n",
    "\n",
    "---"
   ]
  },
  {
   "cell_type": "code",
   "execution_count": 15,
   "metadata": {
    "execution": {
     "iopub.execute_input": "2025-01-01T12:41:02.457684Z",
     "iopub.status.busy": "2025-01-01T12:41:02.457246Z",
     "iopub.status.idle": "2025-01-01T12:41:03.166241Z",
     "shell.execute_reply": "2025-01-01T12:41:03.165349Z",
     "shell.execute_reply.started": "2025-01-01T12:41:02.457661Z"
    },
    "id": "ENCfvXeLxIhX",
    "trusted": true
   },
   "outputs": [
    {
     "data": {
      "image/png": "[encoded data removed]",
      "text/plain": [
       "<Figure size 1200x500 with 2 Axes>"
      ]
     },
     "metadata": {},
     "output_type": "display_data"
    }
   ],
   "source": [
    "###############################################################################################################\n",
    "# TODO: Visualize the training history by plotting the loss and accuracy over the epochs to assess model      #\n",
    "#       performance. Use an appropriate visualization method to ensure clarity and effectiveness.             #\n",
    "#       you can use function implemented in Task 2 for your visualizations                                    #\n",
    "###############################################################################################################\n",
    "\n",
    "# Your code for visualizing the training history goes here\n",
    "\n",
    "################################################################################\n",
    "# 10) Plot Training & Validation Curves\n",
    "################################################################################\n",
    "plt.figure(figsize=(12, 5))\n",
    "plt.suptitle(\"Training & Validation Metrics\", fontsize=14, fontweight='bold')\n",
    "\n",
    "# Plot Loss\n",
    "plt.subplot(1, 2, 1)\n",
    "plt.plot(range(1, len(train_losses) + 1), train_losses, label='Train Loss', marker='o')\n",
    "plt.plot(range(1, len(val_losses) + 1), val_losses, label='Val Loss', marker='o')\n",
    "plt.title(\"Loss per Epoch\")\n",
    "plt.xlabel(\"Epoch\")\n",
    "plt.ylabel(\"Loss\")\n",
    "plt.legend()\n",
    "plt.grid(True)\n",
    "\n",
    "# Plot Accuracy\n",
    "plt.subplot(1, 2, 2)\n",
    "plt.plot(range(1, len(train_accs) + 1), train_accs, label='Train Acc', marker='o')\n",
    "plt.plot(range(1, len(val_accs) + 1), val_accs, label='Val Acc', marker='o')\n",
    "plt.title(\"Accuracy per Epoch\")\n",
    "plt.xlabel(\"Epoch\")\n",
    "plt.ylabel(\"Accuracy (%)\")\n",
    "plt.legend()\n",
    "plt.grid(True)\n",
    "\n",
    "plt.tight_layout()\n",
    "plt.show()"
   ]
  },
  {
   "cell_type": "code",
   "execution_count": 21,
   "metadata": {
    "execution": {
     "iopub.execute_input": "2025-01-01T12:46:48.143066Z",
     "iopub.status.busy": "2025-01-01T12:46:48.142710Z",
     "iopub.status.idle": "2025-01-01T12:46:48.745149Z",
     "shell.execute_reply": "2025-01-01T12:46:48.744207Z",
     "shell.execute_reply.started": "2025-01-01T12:46:48.143036Z"
    },
    "id": "kWuzoz8uxIha",
    "trusted": true
   },
   "outputs": [
    {
     "name": "stdout",
     "output_type": "stream",
     "text": [
      "Test Loss: 0.4330\n",
      "Test Accuracy: 87.05%\n",
      "\n",
      "Sample Test Predictions:\n",
      "  Tweet #1: im feeling rather rotten so im not very ambitious right now\n",
      "    Predicted Label: 0, True Label: 0\n",
      "-----------------------------------------------------\n",
      "  Tweet #2: im updating my blog because i feel shitty\n",
      "    Predicted Label: 0, True Label: 0\n",
      "-----------------------------------------------------\n",
      "  Tweet #3: i never make her separate from me because i don t ever want her to feel like i m ashamed with her\n",
      "    Predicted Label: 0, True Label: 0\n",
      "-----------------------------------------------------\n",
      "\n",
      "Classification Report:\n",
      "              precision    recall  f1-score   support\n",
      "\n",
      "           0       0.94      0.94      0.94       581\n",
      "           1       0.89      0.92      0.90       695\n",
      "           2       0.65      0.70      0.68       159\n",
      "           3       0.86      0.85      0.85       275\n",
      "           4       0.85      0.83      0.84       224\n",
      "           5       0.65      0.45      0.54        66\n",
      "\n",
      "    accuracy                           0.87      2000\n",
      "   macro avg       0.81      0.78      0.79      2000\n",
      "weighted avg       0.87      0.87      0.87      2000\n",
      "\n"
     ]
    },
    {
     "data": {
      "image/png": "[encoded data removed]",
      "text/plain": [
       "<Figure size 800x800 with 2 Axes>"
      ]
     },
     "metadata": {},
     "output_type": "display_data"
    },
    {
     "name": "stdout",
     "output_type": "stream",
     "text": [
      "\n",
      "Sample Predictions by Predicted Label:\n",
      "\n",
      "Predicted Label = Class_0:\n",
      "  Example #1\n",
      "    Tweet: im feeling rather rotten so im not very ambitious right now\n",
      "    True Label: Class_0 (numeric: 0)\n",
      "-----------------------------------------------------\n",
      "  Example #2\n",
      "    Tweet: im updating my blog because i feel shitty\n",
      "    True Label: Class_0 (numeric: 0)\n",
      "-----------------------------------------------------\n",
      "\n",
      "Predicted Label = Class_1:\n",
      "  Example #1\n",
      "    Tweet: i left with my bouquet of red and yellow tulips under my arm feeling slightly more optimistic than when i arrived\n",
      "    True Label: Class_1 (numeric: 1)\n",
      "-----------------------------------------------------\n",
      "  Example #2\n",
      "    Tweet: i explain why i clung to a relationship with a boy who was in many ways immature and uncommitted despite the excitement i should have been feeling for getting accepted into the masters program at the university of virginia\n",
      "    True Label: Class_1 (numeric: 1)\n",
      "-----------------------------------------------------\n",
      "\n",
      "Predicted Label = Class_2:\n",
      "  Example #1\n",
      "    Tweet: i find myself in the odd position of feeling supportive of\n",
      "    True Label: Class_2 (numeric: 2)\n",
      "-----------------------------------------------------\n",
      "  Example #2\n",
      "    Tweet: i feel like a naughty school girl because i am falling behind\n",
      "    True Label: Class_2 (numeric: 2)\n",
      "-----------------------------------------------------\n",
      "\n",
      "Predicted Label = Class_3:\n",
      "  Example #1\n",
      "    Tweet: i felt anger when at the end of a telephone call\n",
      "    True Label: Class_3 (numeric: 3)\n",
      "-----------------------------------------------------\n",
      "  Example #2\n",
      "    Tweet: i jest i feel grumpy tired and pre menstrual which i probably am but then again its only been a week and im about as fit as a walrus on vacation for the summer\n",
      "    True Label: Class_3 (numeric: 3)\n",
      "-----------------------------------------------------\n",
      "\n",
      "Predicted Label = Class_4:\n",
      "  Example #1\n",
      "    Tweet: i cant walk into a shop anywhere where i do not feel uncomfortable\n",
      "    True Label: Class_4 (numeric: 4)\n",
      "-----------------------------------------------------\n",
      "  Example #2\n",
      "    Tweet: i hate it when i feel fearful for absolutely no reason\n",
      "    True Label: Class_4 (numeric: 4)\n",
      "-----------------------------------------------------\n",
      "\n",
      "Predicted Label = Class_5:\n",
      "  Example #1\n",
      "    Tweet: i feel shocked and sad at the fact that there are so many sick people\n",
      "    True Label: Class_5 (numeric: 5)\n",
      "-----------------------------------------------------\n",
      "  Example #2\n",
      "    Tweet: i am right handed however i play billiards left handed naturally so me trying to play right handed feels weird\n",
      "    True Label: Class_5 (numeric: 5)\n",
      "-----------------------------------------------------\n"
     ]
    }
   ],
   "source": [
    "###############################################################################################################\n",
    "# TODO: Prepare the test set by extracting the tweets and labels, then convert the tweets into sequences using\n",
    "#       the tokenizer. Ensure the format matches that of the training and validation sets.\n",
    "###############################################################################################################\n",
    "\n",
    "import torch\n",
    "from torch.utils.data import TensorDataset, DataLoader\n",
    "import numpy as np\n",
    "from sklearn.metrics import classification_report\n",
    "\n",
    "# 1) Extract test tweets and labels\n",
    "test_tweets, test_labels = extract_tweets_labels(test)\n",
    "\n",
    "# 2) Convert the test tweets into padded/truncated sequences (matching training/validation format)\n",
    "padded_test_sequences = get_sequences(tokenizer, test_tweets)\n",
    "\n",
    "# 3) Create PyTorch tensors\n",
    "test_sequences_tensor = torch.tensor(padded_test_sequences, dtype=torch.long)\n",
    "test_labels_tensor = torch.tensor(test_labels, dtype=torch.long)\n",
    "\n",
    "# 4) Build a TensorDataset and DataLoader for the test set\n",
    "test_dataset = TensorDataset(test_sequences_tensor, test_labels_tensor)\n",
    "test_loader = DataLoader(test_dataset, batch_size=64, shuffle=False)\n",
    "\n",
    "###############################################################################################################\n",
    "# TODO: Evaluate the model's performance on the test set. Print the accuracy and loss, and review individual\n",
    "#       predictions to understand how the model is performing on unseen data.\n",
    "###############################################################################################################\n",
    "\n",
    "model.eval()  # Put the model in evaluation mode\n",
    "test_loss = 0.0\n",
    "correct_predictions = 0\n",
    "total_samples = 0\n",
    "\n",
    "all_preds = []\n",
    "all_true = []\n",
    "\n",
    "with torch.no_grad():\n",
    "    for seq_batch, lbl_batch in test_loader:\n",
    "        seq_batch = seq_batch.to(device)\n",
    "        lbl_batch = lbl_batch.to(device)\n",
    "\n",
    "        # Forward pass\n",
    "        outputs = model(seq_batch)\n",
    "        loss_val = criterion(outputs, lbl_batch)\n",
    "\n",
    "        # Accumulate test loss\n",
    "        test_loss += loss_val.item() * seq_batch.size(0)\n",
    "\n",
    "        # Compute predictions and accuracy\n",
    "        _, predicted_labels = torch.max(outputs, dim=1)\n",
    "        correct_predictions += (predicted_labels == lbl_batch).sum().item()\n",
    "        total_samples += lbl_batch.size(0)\n",
    "\n",
    "        # Store predictions and true labels for analysis\n",
    "        all_preds.extend(predicted_labels.cpu().tolist())\n",
    "        all_true.extend(lbl_batch.cpu().tolist())\n",
    "\n",
    "# Calculate average test loss and accuracy\n",
    "test_loss /= total_samples\n",
    "test_acc = (correct_predictions / total_samples) * 100\n",
    "\n",
    "print(f\"Test Loss: {test_loss:.4f}\")\n",
    "print(f\"Test Accuracy: {test_acc:.2f}%\")\n",
    "\n",
    "# Optional: Review a few individual predictions (default = 3)\n",
    "num_examples_to_review = 3\n",
    "print(\"\\nSample Test Predictions:\")\n",
    "for i in range(num_examples_to_review):\n",
    "    text_sample = test_tweets[i]\n",
    "    predicted_label = all_preds[i]\n",
    "    true_label = all_true[i]\n",
    "    print(f\"  Tweet #{i+1}: {text_sample}\")\n",
    "    print(f\"    Predicted Label: {predicted_label}, True Label: {true_label}\")\n",
    "    print(\"-----------------------------------------------------\")\n",
    "\n",
    "\n",
    "###############################################################################################################\n",
    "# TODO: Generate predictions for all test samples and analyze the model's overall performance. Display the\n",
    "#       confusion matrix to visualize the differences between true and predicted labels, helping to interpret\n",
    "#       the model's classification results.\n",
    "###############################################################################################################\n",
    "\n",
    "# Classification report for more detailed metrics\n",
    "print(\"\\nClassification Report:\")\n",
    "print(classification_report(all_true, all_preds))  # You can pass target_names if you have specific class names\n",
    "\n",
    "# Confusion matrix visualization (uses your provided function in Task 2)\n",
    "class_names = [\"Class_0\", \"Class_1\", \"Class_2\", \"Class_3\", \"Class_4\", \"Class_5\"]\n",
    "visualize_confusion_matrix(all_true, all_preds, classes=class_names)\n",
    "\n",
    "# Let's collect a few examples per predicted label:\n",
    "examples_per_label = 2  # how many examples you want from each predicted label\n",
    "label_buckets = {label_i: [] for label_i in range(len(class_names))}\n",
    "\n",
    "# Go through all predictions; store the first N examples for each predicted label.\n",
    "for i, (tweet_text, y_true, y_pred) in enumerate(zip(test_tweets, all_true, all_preds)):\n",
    "    if len(label_buckets[y_pred]) < examples_per_label:\n",
    "        label_buckets[y_pred].append((tweet_text, y_true, y_pred))\n",
    "    # If we've collected enough examples for each predicted label, we can stop early\n",
    "    if all(len(bucket) >= examples_per_label for bucket in label_buckets.values()):\n",
    "        break\n",
    "\n",
    "print(\"\\nSample Predictions by Predicted Label:\")\n",
    "for label_id in range(len(class_names)):\n",
    "    if len(label_buckets[label_id]) > 0:\n",
    "        print(f\"\\nPredicted Label = {class_names[label_id]}:\")\n",
    "        for idx, (txt, true_lbl, pred_lbl) in enumerate(label_buckets[label_id], 1):\n",
    "            print(f\"  Example #{idx}\")\n",
    "            print(f\"    Tweet: {txt}\")\n",
    "            print(f\"    True Label: {class_names[true_lbl]} (numeric: {true_lbl})\")\n",
    "            print(\"-----------------------------------------------------\")\n",
    "    else:\n",
    "        print(f\"\\n(No examples found for predicted label = {class_names[label_id]})\")\n"
   ]
  },
  {
   "cell_type": "markdown",
   "metadata": {},
   "source": [
    "# Final Analysis\n",
    "\n",
    "After visualizing the confusion matrix based on your model’s predictions, analyze the results and provide insights into the model’s classification performance.\n",
    "\n",
    "### **Question:**\n",
    "<span style=\"font-size: 1.2em;\">Which class seems to get confused with the class *love* the most?</span>\n",
    "\n",
    "**Remember the class labels:**\n",
    "- **0:** *Sadness*\n",
    "- **1:** *Joy*\n",
    "- **2:** *Love*\n",
    "- **3:** *Anger*\n",
    "- **4:** *Fear*\n",
    "- **5:** *Surprise*\n",
    "\n",
    "Reflect on the confusion matrix to answer this question and provide your reasoning for why this confusion might occur based on the emotional nature of the classes.\n"
   ]
  },
  {
   "cell_type": "markdown",
   "metadata": {},
   "source": [
    "## Analyzing Model Performance: Insights from the Confusion Matrix\n",
    "\n",
    "Understanding how a deep learning model performs, especially in tasks involving emotion classification, requires a detailed examination of its confusion matrix. This matrix provides a comprehensive view of the model’s strengths and weaknesses by illustrating how often different classes are correctly or incorrectly predicted. Below, we explore key observations derived from the confusion matrix, particularly focusing on the classification of the emotion *Love*, and delve into the underlying causes of any identified misclassifications.\n",
    "\n",
    "### 1. Predominance of Diagonal Elements\n",
    "\n",
    "**High Accuracy Across Classes:**  \n",
    "The confusion matrix exhibits prominently high values along its diagonal, which is a positive indicator of the model’s capability to correctly identify and classify the majority of emotion categories. Each diagonal entry represents the number of instances where the predicted emotion matches the actual emotion, demonstrating that the model is proficient in recognizing these emotions accurately.\n",
    "\n",
    "**Implications:**  \n",
    "This dominance suggests that the model has effectively learned the distinguishing features of each emotion class, leading to reliable performance in correctly categorizing a significant number of samples. Such a strong diagonal presence is essential for ensuring overall model reliability and confidence in its predictions.\n",
    "\n",
    "### 2. Misclassifications Off the Diagonal\n",
    "\n",
    "**Understanding Misclassification Patterns:**  \n",
    "While the diagonal elements show strong performance, the values situated outside the diagonal reveal instances where the model falters, misclassifying emotions. These off-diagonal entries are crucial for identifying specific areas where the model’s understanding may be lacking or where certain emotions are easily confused with one another.\n",
    "\n",
    "**Case Study: Confusion Between *Love* and *Joy***  \n",
    "Focusing on the *Love* emotion, the confusion matrix indicates a notable misclassification rate with the *Joy* category. Specifically, the *Love* row shows a significant value in the *Joy* column, highlighting that the model frequently mistakes *Love* for *Joy* more than for any other emotion. This pattern suggests a particular overlap or similarity in how these two emotions are represented and perceived by the model.\n",
    "\n",
    "### 3. In-Depth Analysis of *Love* Misclassifications\n",
    "\n",
    "**a. Dominant Misclassification with *Joy***\n",
    "\n",
    "- **Observation:**  \n",
    "  The most recurrent misclassification involving *Love* is its confusion with *Joy*, as evidenced by the brighter square in the *Love* row intersecting the *Joy* column.\n",
    "\n",
    "- **Significance:**  \n",
    "  This specific confusion is especially noteworthy because other misclassifications involving *Love*—such as with *Sadness*, *Anger*, or other emotions—are markedly less frequent. The high incidence of *Love* being mistaken for *Joy* underscores a potential area where the model’s discriminative capabilities could be enhanced.\n",
    "\n",
    "**b. Root Causes of Confusion**\n",
    "\n",
    "1. **Emotional Similarity**\n",
    "\n",
    "   - **Nature of Emotions:**  \n",
    "     Both *Love* and *Joy* are categorized as positive emotions, often co-occurring or expressed simultaneously in various contexts. This inherent similarity can blur the lines between them, making it challenging for the model to distinguish between the two based solely on the features it has learned.\n",
    "\n",
    "   - **Contextual Overlap:**  \n",
    "     In real-world scenarios, expressions of love often contain elements of joy, further complicating the model’s ability to parse and differentiate between the two. This overlap necessitates more nuanced feature extraction to capture the subtle distinctions.\n",
    "\n",
    "2. **Imbalanced Training Data**\n",
    "\n",
    "   - **Data Representation:**  \n",
    "     If the training dataset contains a disproportionate number of instances where *Love* and *Joy* share similar characteristics, or if there is a scarcity of *Love* instances, the model may struggle to form a clear boundary between these emotions.\n",
    "\n",
    "   - **Impact on Learning:**  \n",
    "     An imbalance can lead the model to rely more heavily on the dominant features associated with *Joy*, inadvertently biasing it against accurately recognizing *Love*. Ensuring a balanced representation of all emotion classes is crucial for mitigating this issue.\n",
    "\n",
    "3. **Feature Representation Limitations**\n",
    "\n",
    "   - **Subtle Differentiators:**  \n",
    "     The features currently learned by the model may not sufficiently capture the intricate differences that set *Love* apart from *Joy*. For instance, *Love* often involves deeper, more intimate connections, whereas *Joy* is generally broader and less context-specific.\n",
    "\n",
    "   - **Enhancing Feature Engineering:**  \n",
    "     To address this, incorporating more sophisticated feature extraction techniques or leveraging contextual information can help the model better understand and differentiate between these closely related emotions.\n",
    "\n",
    "### 4. Strategies to Mitigate Misclassification Between *Love* and *Joy*\n",
    "\n",
    "**a. Augmenting Training Data**\n",
    "\n",
    "- **Balanced Sampling:**  \n",
    "  Ensuring an equal representation of *Love* and *Joy* instances can help the model learn more distinct features for each emotion. Techniques such as oversampling the minority class or undersampling the majority class can be employed to achieve this balance.\n",
    "\n",
    "- **Diverse Examples:**  \n",
    "  Including a wide variety of contexts and expressions for both *Love* and *Joy* can provide the model with a richer understanding of the nuances that differentiate these emotions.\n",
    "\n",
    "**b. Advanced Feature Engineering**\n",
    "\n",
    "- **Contextual Features:**  \n",
    "  Incorporating contextual information, such as the surrounding text or situational cues, can help the model discern the specific circumstances under which *Love* or *Joy* is expressed.\n",
    "\n",
    "- **Hierarchical Models:**  \n",
    "  Utilizing models that can capture hierarchical relationships between emotions may enable better differentiation by recognizing that *Love* is a more specific form of *Joy*.\n",
    "\n",
    "**c. Model Architecture Enhancements**\n",
    "\n",
    "- **Attention Mechanisms:**  \n",
    "  Implementing attention layers can allow the model to focus on the most relevant parts of the input when making predictions, potentially improving its ability to distinguish between similar emotions.\n",
    "\n",
    "- **Ensemble Methods:**  \n",
    "  Combining multiple models or leveraging ensemble techniques can enhance overall performance and reduce the likelihood of consistent misclassifications between closely related classes.\n",
    "\n",
    "### 5. Broader Implications and Future Directions\n",
    "\n",
    "**a. Importance of Continuous Evaluation**\n",
    "\n",
    "- **Regular Monitoring:**  \n",
    "  Continuously evaluating the confusion matrix as the model evolves ensures that emerging patterns of misclassification are promptly identified and addressed.\n",
    "\n",
    "- **Feedback Loops:**  \n",
    "  Incorporating feedback from domain experts can provide valuable insights into why certain misclassifications occur and how to refine the model accordingly.\n",
    "\n",
    "**b. Expanding to Multi-Dimensional Emotion Models**\n",
    "\n",
    "- **Complex Emotion Spaces:**  \n",
    "  Emotions are often multi-dimensional and can overlap in various ways. Developing models that can capture these complexities can lead to more accurate and nuanced emotion recognition.\n",
    "\n",
    "- **Personalization:**  \n",
    "  Tailoring models to account for individual differences in emotional expression can further enhance accuracy, especially in applications like personalized mental health support or adaptive user interfaces.\n",
    "\n",
    "### Conclusion\n",
    "\n",
    "The analysis of the confusion matrix reveals that while the model performs admirably in correctly classifying most emotions, there is a notable area for improvement in distinguishing *Love* from *Joy*. By addressing the underlying causes—such as emotional similarity, data imbalance, and feature representation limitations—and implementing targeted strategies, the model’s accuracy and reliability can be significantly enhanced. Continuous evaluation and refinement, coupled with advanced modeling techniques, will pave the way for developing more sophisticated and emotionally intelligent AI systems."
   ]
  },
  {
   "cell_type": "markdown",
   "metadata": {},
   "source": [
    "# **Best regards.**"
   ]
  }
 ],
 "metadata": {
  "accelerator": "GPU",
  "colab": {
   "provenance": []
  },
  "kaggle": {
   "accelerator": "gpu",
   "dataSources": [],
   "dockerImageVersionId": 30823,
   "isGpuEnabled": true,
   "isInternetEnabled": true,
   "language": "python",
   "sourceType": "notebook"
  },
  "kernelspec": {
   "display_name": "Python 3",
   "language": "python",
   "name": "python3"
  },
  "language_info": {
   "codemirror_mode": {
    "name": "ipython",
    "version": 3
   },
   "file_extension": ".py",
   "mimetype": "text/x-python",
   "name": "python",
   "nbconvert_exporter": "python",
   "pygments_lexer": "ipython3",
   "version": "3.10.12"
  }
 },
 "nbformat": 4,
 "nbformat_minor": 4
}
